{
 "cells": [
  {
   "cell_type": "markdown",
   "id": "wooden-india",
   "metadata": {},
   "source": [
    "# Dynamic Programming notebook\n",
    "## Using Memoization Technique\n",
    "### 1. Fibonacci "
   ]
  },
  {
   "cell_type": "code",
   "execution_count": 10,
   "id": "complimentary-timer",
   "metadata": {},
   "outputs": [],
   "source": [
    "# The fibo sequence \n",
    "def fib(n):\n",
    "    if (n<= 2):return 1\n",
    "    return fib(n-1) + fib(n-2)\n",
    "#T = O(2^n)\n",
    "#S = O(n)"
   ]
  },
  {
   "cell_type": "code",
   "execution_count": 11,
   "id": "coral-shelf",
   "metadata": {},
   "outputs": [],
   "source": [
    "# Now using dynamic programming approach \n",
    "# memoization \n",
    "def fib(n, mem = {}): # store all the previously found sub solution into a memory or in hash table.\n",
    "    if (n in mem) : return mem[n]  # if in that memo return else compute untill it hits the base case.\n",
    "    if n<=2 : return 1\n",
    "    mem[n] =  fib(n-1) + fib(n-2)\n",
    "\n",
    "    return mem[n]\n",
    "#T = O(n)\n",
    "#S = O(n)"
   ]
  },
  {
   "cell_type": "code",
   "execution_count": 12,
   "id": "administrative-gross",
   "metadata": {},
   "outputs": [
    {
     "data": {
      "text/plain": [
       "139423224561697880139724382870407283950070256587697307264108962948325571622863290691557658876222521294125"
      ]
     },
     "execution_count": 12,
     "metadata": {},
     "output_type": "execute_result"
    }
   ],
   "source": [
    "fib(500)"
   ]
  },
  {
   "cell_type": "markdown",
   "id": "centered-minutes",
   "metadata": {},
   "source": [
    "### 2.  Grid Travller Problem "
   ]
  },
  {
   "cell_type": "code",
   "execution_count": 13,
   "id": "motivated-organic",
   "metadata": {},
   "outputs": [],
   "source": [
    "def gridTravaller(n,m):\n",
    "    if (n == 1 and  m == 1): return 1\n",
    "    if (n == 0 or   m == 0): return 0\n",
    "    return gridTravaller(n-1,m) + gridTravaller(n, m-1)\n",
    "# t = O(2^n+m)\n",
    "# s = O(N)"
   ]
  },
  {
   "cell_type": "code",
   "execution_count": 39,
   "id": "champion-sense",
   "metadata": {},
   "outputs": [],
   "source": [
    "# Using the dp approch \n",
    "# using memoization \n",
    "def gridTravaller(n,m, mem = {}):\n",
    "    key = f'{m},{n}'\n",
    "    for key in mem : return mem[key]\n",
    "    if (n == 1 and  m == 1): return 1\n",
    "    if (n == 0 or   m == 0): return 0\n",
    "    mem[key] = gridTravaller(n-1,m, mem) + gridTravaller(n, m-1, mem)\n",
    "    return mem[key]\n",
    "# t = O(2^n+m)\n",
    "# s = O(N)"
   ]
  },
  {
   "cell_type": "code",
   "execution_count": 14,
   "id": "imperial-blake",
   "metadata": {},
   "outputs": [
    {
     "data": {
      "text/plain": [
       "13"
      ]
     },
     "execution_count": 14,
     "metadata": {},
     "output_type": "execute_result"
    }
   ],
   "source": [
    "gridTravaller(13,2)"
   ]
  },
  {
   "cell_type": "markdown",
   "id": "surprised-design",
   "metadata": {},
   "source": [
    "### 3.1. CanSum Problem "
   ]
  },
  {
   "cell_type": "code",
   "execution_count": 1,
   "id": "disturbed-procedure",
   "metadata": {},
   "outputs": [],
   "source": [
    "def canSum(targetSum, llist):\n",
    "    # base cases +ve\n",
    "    if targetSum == 0: return True\n",
    "    if targetSum <  0: return False \n",
    "    \n",
    "    for ts in llist:\n",
    "        rem = targetSum - ts\n",
    "        if(canSum(rem, llist)): return True\n",
    "    return False\n",
    "# t = O(n^m)\n",
    "# s = O(n)"
   ]
  },
  {
   "cell_type": "code",
   "execution_count": 4,
   "id": "about-happiness",
   "metadata": {},
   "outputs": [
    {
     "data": {
      "text/plain": [
       "False"
      ]
     },
     "execution_count": 4,
     "metadata": {},
     "output_type": "execute_result"
    }
   ],
   "source": [
    "canSum(300,[7,14])"
   ]
  },
  {
   "cell_type": "code",
   "execution_count": 3,
   "id": "alpha-wednesday",
   "metadata": {},
   "outputs": [],
   "source": [
    "# Using the dp approch \n",
    "# using memoization \n",
    "def canSum(targetSum, llist, mem = {}):\n",
    "    # base cases +ve\n",
    "    key = targetSum\n",
    "    if key in mem: return mem[key]\n",
    "    if targetSum == 0: return True\n",
    "    if targetSum <  0: return False \n",
    "    \n",
    "    for num in llist:         \n",
    "        if(canSum(targetSum - num, llist)): \n",
    "            mem[key] = True\n",
    "            return mem[key]\n",
    "    else:\n",
    "        mem[key] = False\n",
    "        return mem[key] \n",
    "# t = O(n)\n",
    "# s = O(n)"
   ]
  },
  {
   "cell_type": "markdown",
   "id": "varied-anderson",
   "metadata": {},
   "source": [
    "### 3.2 HowSum Problem"
   ]
  },
  {
   "cell_type": "code",
   "execution_count": 1,
   "id": "greatest-therapy",
   "metadata": {},
   "outputs": [],
   "source": [
    "def howSum(targetSum, numbers):\n",
    "    #base case \n",
    "    if targetSum == 0: return []\n",
    "    if targetSum <  0: return None\n",
    "    \n",
    "    for num in numbers:  # iterate through the numbers in the array for possible matches \n",
    "        result = howSum(targetSum - num, numbers)\n",
    "        if result != None:\n",
    "            return [ *result, num]\n",
    "    return None\n",
    "# time complexity = O(n**m * m)\n",
    "# space = O(m)"
   ]
  },
  {
   "cell_type": "code",
   "execution_count": 5,
   "id": "protective-consistency",
   "metadata": {},
   "outputs": [],
   "source": [
    "howSum(300,[7,14])"
   ]
  },
  {
   "cell_type": "code",
   "execution_count": 1,
   "id": "israeli-committee",
   "metadata": {},
   "outputs": [],
   "source": [
    "# Using the dp approch \n",
    "# using memoization \n",
    "def howSum(targetSum, numbers, mem = {}):\n",
    "    if targetSum in mem: return mem[targetSum]\n",
    "    #base case \n",
    "    if targetSum == 0: return []\n",
    "    if targetSum <  0: return None\n",
    "    \n",
    "    for num in numbers:  # iterate through the numbers in the array for possible matches \n",
    "        result = howSum(targetSum - num, numbers)\n",
    "        if result != None:\n",
    "            mem[targetSum] = [ *result, num]\n",
    "            return mem[targetSum]\n",
    "    mem[targetSum] = None\n",
    "    return mem[targetSum]\n",
    "# time complexity = O(n*m**2)\n",
    "# space = O(m**2)"
   ]
  },
  {
   "cell_type": "markdown",
   "id": "altered-second",
   "metadata": {},
   "source": [
    "### 3.3 BestSum Problem "
   ]
  },
  {
   "cell_type": "code",
   "execution_count": 23,
   "id": "verified-grass",
   "metadata": {},
   "outputs": [],
   "source": [
    "def bestSum(targetSum, numbers):\n",
    "    #base case \n",
    "    if targetSum == 0: return []\n",
    "    if targetSum <  0: return None\n",
    "    \n",
    "    shortestCombination = None\n",
    "    \n",
    "    for num in numbers:  # iterate through the numbers in the array for possible matches \n",
    "        result = bestSum(targetSum - num, numbers)\n",
    "        if result != None:\n",
    "            currentCombination =  [ *result, num]\n",
    "            if ( shortestCombination == None or len(currentCombination) < len(shortestCombination)):\n",
    "                shortestCombination = currentCombination\n",
    "                \n",
    "    return shortestCombination\n",
    "# time complexity = O(n**m * m)\n",
    "# space = O(m)"
   ]
  },
  {
   "cell_type": "code",
   "execution_count": null,
   "id": "coastal-diagram",
   "metadata": {},
   "outputs": [],
   "source": [
    "bestSum(100,[1,2,5,25])"
   ]
  },
  {
   "cell_type": "code",
   "execution_count": 19,
   "id": "whole-gothic",
   "metadata": {},
   "outputs": [],
   "source": [
    "def bestSum(targetSum, numbers, mem = {}):\n",
    "    #base case \n",
    "    if targetSum in mem: return mem[targetSum]\n",
    "    if targetSum == 0: return []\n",
    "    if targetSum <  0: return None\n",
    "    \n",
    "    shortestCombination = None\n",
    "    \n",
    "    for num in numbers:  # iterate through the numbers in the array for possible matches \n",
    "        result = bestSum(targetSum - num, numbers)\n",
    "        if result != None:\n",
    "            currentCombination =  [ *result, num]\n",
    "            if ( shortestCombination == None or len(currentCombination) < len(shortestCombination)):\n",
    "                shortestCombination = currentCombination\n",
    "    mem[targetSum] = shortestCombination\n",
    "    return mem[targetSum]\n",
    "# time complexity = O(n**m * m)\n",
    "# space = O(m)"
   ]
  },
  {
   "cell_type": "code",
   "execution_count": 77,
   "id": "macro-clothing",
   "metadata": {},
   "outputs": [],
   "source": [
    "# Or, \n",
    "# Using the dp approch \n",
    "# using memoization \n",
    "def bestSum(targetSum, numbers, mem = {}):\n",
    "    #base case \n",
    "    if targetSum in mem: return mem[targetSum]\n",
    "    if targetSum == 0: return []\n",
    "    if targetSum <  0: return None\n",
    "    \n",
    "    mem[targetSum] = None\n",
    "    \n",
    "    for num in numbers:  # iterate through the numbers in the array for possible matches \n",
    "        result = bestSum(targetSum - num, numbers, mem)\n",
    "        if result != None:\n",
    "            currentCombination =  [ *result, num]\n",
    "            if ( mem[targetSum] == None or len(currentCombination) < len(mem[targetSum])):\n",
    "                mem[targetSum] = currentCombination\n",
    "                \n",
    "    return mem[targetSum]\n",
    "# time complexity = O(n**m * m)\n",
    "# space = O(m)"
   ]
  },
  {
   "cell_type": "code",
   "execution_count": 78,
   "id": "affiliated-senegal",
   "metadata": {},
   "outputs": [
    {
     "data": {
      "text/plain": [
       "[25, 25, 25, 25]"
      ]
     },
     "execution_count": 78,
     "metadata": {},
     "output_type": "execute_result"
    }
   ],
   "source": [
    "bestSum(100,[1,2,5,25])"
   ]
  },
  {
   "cell_type": "markdown",
   "id": "spare-electric",
   "metadata": {},
   "source": [
    "### 4.1 CanConstruct Problem "
   ]
  },
  {
   "cell_type": "code",
   "execution_count": 13,
   "id": "substantial-timeline",
   "metadata": {},
   "outputs": [],
   "source": [
    "def canConstruct(target, wordBank):\n",
    "    #base case \n",
    "    if target == '': return True \n",
    "    \n",
    "    for word in wordBank:\n",
    "        try:\n",
    "        \n",
    "            if target.index(word) == 0:          # ie. check whether the sub-string is present in the target string\n",
    "                                                 # And, importantly make sure that it is a prefix only.(From the tree diagram)\n",
    "                    sufix = target[len(word):]    # List slicing, slice the prefix from the list so that,\n",
    "                                                 #next substring is the prefix for futre recurssion\n",
    "                    if(canConstruct(sufix,wordBank) == True):\n",
    "                        return True\n",
    "        except:None\n",
    "                \n",
    "    return False\n",
    "            \n",
    "# time complexity = O(n**m * m)\n",
    "# space = O(m**2)        "
   ]
  },
  {
   "cell_type": "code",
   "execution_count": 10,
   "id": "electrical-treat",
   "metadata": {},
   "outputs": [],
   "source": [
    "# Using the dp approch \n",
    "# using memoization \n",
    "def canConstruct(target, wordBank, mem = {}):\n",
    "    #base case \n",
    "    if target in mem: return mem[target]\n",
    "    if target == '': return True \n",
    "    \n",
    "    for word in wordBank:\n",
    "        try:\n",
    "        \n",
    "            if target.index(word) == 0:          # ie. check whether the sub-string is present in the target string\n",
    "                                                 # And, importantly make sure that it is a prefix only.(From the tree diagram)\n",
    "                    sufix = target[len(word):]    # List slicing, slice the prefix from the list so that,\n",
    "                                                 #next substring is the prefix for futre recurssion\n",
    "                    if(canConstruct(sufix,wordBank, mem) == True):\n",
    "                        mem[target] = True\n",
    "                        return mem[target]\n",
    "        except:None\n",
    "    mem[target] = False\n",
    "    return mem[target]\n",
    "            \n",
    "# time complexity = O(n*m*m) =>(m**2*n)\n",
    "# space = O(m**2)        "
   ]
  },
  {
   "cell_type": "code",
   "execution_count": 11,
   "id": "specific-minister",
   "metadata": {},
   "outputs": [
    {
     "data": {
      "text/plain": [
       "False"
      ]
     },
     "execution_count": 11,
     "metadata": {},
     "output_type": "execute_result"
    }
   ],
   "source": [
    "canConstruct(\"abcd\",[\"abcd\",\"ab\"])\n",
    "#canConstruct(\"skateboard\", [\"bo\", \"rd\", \"ate\", \"t\", \"sk\", \"boat\"])\n",
    "canConstruct(\"eeeeeeeeeeeeeeeeeeeeeeeeeeeeef\", [\"e\",\"eee\",\"eeeeeeeeee\",\"eeeeeeeeeeee\",\"e\"])"
   ]
  },
  {
   "cell_type": "markdown",
   "id": "informational-sentence",
   "metadata": {},
   "source": [
    "### 4.2 CountConstruct Problem"
   ]
  },
  {
   "cell_type": "code",
   "execution_count": 25,
   "id": "occasional-copyright",
   "metadata": {},
   "outputs": [],
   "source": [
    "def countConstruct(target, wordBank):\n",
    "    #base case \n",
    "    if target == '': return 1\n",
    "    totalCounter = 0\n",
    "    for word in wordBank:\n",
    "        try:\n",
    "        \n",
    "            if target.index(word) == 0:          # ie. check whether the sub-string is present in the target string\n",
    "                                                 # And, importantly make sure that it is a prefix only.(From the tree diagram)\n",
    "                    sufix = target[len(word):]    # List slicing, slice the prefix from the list so that,\n",
    "                                                 #next substring is the prefix for futre recurssion\n",
    "                    counter = countConstruct(sufix,wordBank)\n",
    "                    totalCounter += counter\n",
    "                    \n",
    "        except:None\n",
    "                \n",
    "    return totalCounter\n",
    "            \n",
    "# time complexity = O(n**m * m)\n",
    "# space = O(m**2)        "
   ]
  },
  {
   "cell_type": "code",
   "execution_count": 4,
   "id": "unsigned-moses",
   "metadata": {},
   "outputs": [],
   "source": [
    "def countConstruct(target, wordBank, mem = {}):\n",
    "    #base case \n",
    "    if target in mem: return mem[target]\n",
    "    if target == '': return 1\n",
    "    totalCounter = 0\n",
    "    for word in wordBank:\n",
    "        try:\n",
    "        \n",
    "            if target.index(word) == 0:          # ie. check whether the sub-string is present in the target string\n",
    "                                                 # And, importantly make sure that it is a prefix only.(From the tree diagram)\n",
    "                    sufix = target[len(word):]    # List slicing, slice the prefix from the list so that,\n",
    "                                                 #next substring is the prefix for futre recurssion\n",
    "                    counter = countConstruct(sufix,wordBank, mem)\n",
    "                    totalCounter += counter\n",
    "            \n",
    "        except:None\n",
    "            \n",
    "    mem[target] = totalCounter\n",
    "    return totalCounter \n",
    "            \n",
    "# time complexity = O(n**m * m)\n",
    "# space = O(m**2)        "
   ]
  },
  {
   "cell_type": "code",
   "execution_count": 5,
   "id": "defined-separate",
   "metadata": {},
   "outputs": [
    {
     "data": {
      "text/plain": [
       "0"
      ]
     },
     "execution_count": 5,
     "metadata": {},
     "output_type": "execute_result"
    }
   ],
   "source": [
    "countConstruct(\"purple\", [\"purp\", \"p\", \"ur\", \"le\", \"purpl\"])\n",
    "countConstruct(\"eeeeeeeeeeeeeeeeeeeeeeeeeeeeef\", [\"e\",\"eee\",\"eeeeeeeeee\",\"eeeeeeeeeeee\",\"e\"])"
   ]
  },
  {
   "cell_type": "markdown",
   "id": "unable-slovak",
   "metadata": {},
   "source": [
    "### 4.3 AllConstruct Problem"
   ]
  },
  {
   "cell_type": "code",
   "execution_count": 317,
   "id": "auburn-korea",
   "metadata": {},
   "outputs": [],
   "source": [
    "def allConstruct(target, wordBank):\n",
    "    #base cases\n",
    "    if target == \"\" : return [[]]\n",
    "    allWays = []\n",
    "    for word in wordBank:\n",
    "        try:\n",
    "            if(target.index(word) == 0):\n",
    "                suffix = target[len(word):]\n",
    "                suffixWay = allConstruct(suffix, wordBank)   # returns the solution from one of the child node\n",
    "                totalWay = [[word] + way for way in suffixWay]                  # pushes the array (solution) with the parent node to form a sub solution of that parent target \n",
    "                if totalWay:\n",
    "                    allWays.extend(totalWay)            # pushes the sub-solution to the root and obtain one of the ways\n",
    "                \n",
    "        except:None\n",
    "    return allWays"
   ]
  },
  {
   "cell_type": "code",
   "execution_count": 6,
   "id": "severe-alias",
   "metadata": {},
   "outputs": [],
   "source": [
    "def allConstruct(target, wordBank, mem={}):\n",
    "    #base cases\n",
    "    if target in mem: return mem[target]\n",
    "    if target == \"\" : return [[]]\n",
    "    \n",
    "    result = []\n",
    "    \n",
    "    for word in wordBank:\n",
    "        try:\n",
    "            if(target.index(word) == 0):\n",
    "                suffix = target[len(word):]\n",
    "                suffixWay = allConstruct(suffix, wordBank, mem)   # returns the solution from one of the child node\n",
    "                totalWay = [[word] + way for way in suffixWay]                  # pushes the array (solution) with the parent node to form a sub solution of that parent target \n",
    "                result.extend(totalWay)            # pushes the sub-solution to the root and obtain one of the ways\n",
    "                \n",
    "        except:None\n",
    "    mem[target] = result\n",
    "    return mem[target]"
   ]
  },
  {
   "cell_type": "code",
   "execution_count": 7,
   "id": "attractive-thomson",
   "metadata": {},
   "outputs": [
    {
     "data": {
      "text/plain": [
       "[]"
      ]
     },
     "execution_count": 7,
     "metadata": {},
     "output_type": "execute_result"
    }
   ],
   "source": [
    "allConstruct(\"eeeeeeeeeeeeeeeeeeeeeeeeeeeeef\", [\"e\",\"eee\",\"eeeeeeeeee\",\"eeeeeeeeeeee\",\"e\"])"
   ]
  },
  {
   "cell_type": "code",
   "execution_count": null,
   "id": "uniform-motel",
   "metadata": {},
   "outputs": [],
   "source": []
  }
 ],
 "metadata": {
  "kernelspec": {
   "display_name": "Python 3",
   "language": "python",
   "name": "python3"
  },
  "language_info": {
   "codemirror_mode": {
    "name": "ipython",
    "version": 3
   },
   "file_extension": ".py",
   "mimetype": "text/x-python",
   "name": "python",
   "nbconvert_exporter": "python",
   "pygments_lexer": "ipython3",
   "version": "3.9.1"
  }
 },
 "nbformat": 4,
 "nbformat_minor": 5
}
